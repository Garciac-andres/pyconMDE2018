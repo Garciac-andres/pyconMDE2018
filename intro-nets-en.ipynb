{
 "cells": [
  {
   "cell_type": "markdown",
   "metadata": {
    "collapsed": true
   },
   "source": [
    "## Tools\n",
    "\n",
    "In this workshop we use pandas, sklearn and OpenCV, the following cells show some methods that we will use"
   ]
  },
  {
   "cell_type": "markdown",
   "metadata": {},
   "source": [
    "[Pandas](https://pandas.pydata.org/)\n",
    "\n",
    "It is a very useful library to work with tabular data.\n",
    "It is very common to find it in the analysis of data and in Machine Learning processes.\n",
    "In this workshop we will use it to upload a CSV file and explore the data."
   ]
  },
  {
   "cell_type": "code",
   "execution_count": 1,
   "metadata": {},
   "outputs": [],
   "source": [
    "# https://pandas.pydata.org/ \n",
    "import pandas as pd\n",
    "\n",
    "# load csv file\n",
    "data_frame = pd.read_csv('./data/hands_signs.csv')"
   ]
  },
  {
   "cell_type": "code",
   "execution_count": 2,
   "metadata": {},
   "outputs": [
    {
     "data": {
      "text/html": [
       "<div>\n",
       "<style scoped>\n",
       "    .dataframe tbody tr th:only-of-type {\n",
       "        vertical-align: middle;\n",
       "    }\n",
       "\n",
       "    .dataframe tbody tr th {\n",
       "        vertical-align: top;\n",
       "    }\n",
       "\n",
       "    .dataframe thead th {\n",
       "        text-align: right;\n",
       "    }\n",
       "</style>\n",
       "<table border=\"1\" class=\"dataframe\">\n",
       "  <thead>\n",
       "    <tr style=\"text-align: right;\">\n",
       "      <th></th>\n",
       "      <th>letter</th>\n",
       "      <th>path</th>\n",
       "    </tr>\n",
       "  </thead>\n",
       "  <tbody>\n",
       "    <tr>\n",
       "      <th>count</th>\n",
       "      <td>10000</td>\n",
       "      <td>10000</td>\n",
       "    </tr>\n",
       "    <tr>\n",
       "      <th>unique</th>\n",
       "      <td>24</td>\n",
       "      <td>10000</td>\n",
       "    </tr>\n",
       "    <tr>\n",
       "      <th>top</th>\n",
       "      <td>R</td>\n",
       "      <td>./data/sign-language-mnist/N/9586.jpg</td>\n",
       "    </tr>\n",
       "    <tr>\n",
       "      <th>freq</th>\n",
       "      <td>475</td>\n",
       "      <td>1</td>\n",
       "    </tr>\n",
       "  </tbody>\n",
       "</table>\n",
       "</div>"
      ],
      "text/plain": [
       "       letter                                   path\n",
       "count   10000                                  10000\n",
       "unique     24                                  10000\n",
       "top         R  ./data/sign-language-mnist/N/9586.jpg\n",
       "freq      475                                      1"
      ]
     },
     "execution_count": 2,
     "metadata": {},
     "output_type": "execute_result"
    }
   ],
   "source": [
    "data_frame.describe()"
   ]
  },
  {
   "cell_type": "code",
   "execution_count": 3,
   "metadata": {},
   "outputs": [
    {
     "data": {
      "text/html": [
       "<div>\n",
       "<style scoped>\n",
       "    .dataframe tbody tr th:only-of-type {\n",
       "        vertical-align: middle;\n",
       "    }\n",
       "\n",
       "    .dataframe tbody tr th {\n",
       "        vertical-align: top;\n",
       "    }\n",
       "\n",
       "    .dataframe thead th {\n",
       "        text-align: right;\n",
       "    }\n",
       "</style>\n",
       "<table border=\"1\" class=\"dataframe\">\n",
       "  <thead>\n",
       "    <tr style=\"text-align: right;\">\n",
       "      <th></th>\n",
       "      <th>letter</th>\n",
       "      <th>path</th>\n",
       "    </tr>\n",
       "  </thead>\n",
       "  <tbody>\n",
       "    <tr>\n",
       "      <th>4281</th>\n",
       "      <td>U</td>\n",
       "      <td>./data/sign-language-mnist/U/12134.jpg</td>\n",
       "    </tr>\n",
       "    <tr>\n",
       "      <th>2577</th>\n",
       "      <td>Y</td>\n",
       "      <td>./data/sign-language-mnist/Y/5043.jpg</td>\n",
       "    </tr>\n",
       "  </tbody>\n",
       "</table>\n",
       "</div>"
      ],
      "text/plain": [
       "     letter                                    path\n",
       "4281      U  ./data/sign-language-mnist/U/12134.jpg\n",
       "2577      Y   ./data/sign-language-mnist/Y/5043.jpg"
      ]
     },
     "execution_count": 3,
     "metadata": {},
     "output_type": "execute_result"
    }
   ],
   "source": [
    "data_frame.sample(frac=0.0002)"
   ]
  },
  {
   "cell_type": "markdown",
   "metadata": {},
   "source": [
    "[sklearn](http://scikit-learn.org/stable/) is one of the most popular Machine Learning libraries.\n",
    "In this notebook we will use two of its functions, `train_test_split` and` LabelEncoder` to process the\n",
    "data before training neural networks in tensorflow."
   ]
  },
  {
   "cell_type": "code",
   "execution_count": 4,
   "metadata": {},
   "outputs": [],
   "source": [
    "from sklearn.model_selection import train_test_split\n",
    "\n",
    "x = ['a', 'b', 'c', 'd', 'e', 'f', 'g', 'h']\n",
    "y = [1  ,  2 ,  3 ,  3 ,  4 ,  5 ,  7 ,  8 ]\n",
    "\n",
    "x_train, x_test, y_train, y_test = train_test_split(x, y, test_size=0.5)"
   ]
  },
  {
   "cell_type": "code",
   "execution_count": 5,
   "metadata": {},
   "outputs": [
    {
     "name": "stdout",
     "output_type": "stream",
     "text": [
      "x_train: ['a', 'd', 'h', 'e']\n",
      "y_train: [1, 3, 8, 4]\n",
      "x_test: ['f', 'g', 'b', 'c']\n",
      "y_test: [5, 7, 2, 3]\n"
     ]
    }
   ],
   "source": [
    "print(\"x_train:\", x_train)\n",
    "print(\"y_train:\", y_train)\n",
    "print(\"x_test:\", x_test)\n",
    "print(\"y_test:\", y_test)\n"
   ]
  },
  {
   "cell_type": "code",
   "execution_count": 6,
   "metadata": {},
   "outputs": [
    {
     "name": "stdout",
     "output_type": "stream",
     "text": [
      "['a', 'a', 'a', 'b', 'b', 'd', 'e', 'f', 'h', 'h']\n",
      "[0 0 0 1 1 2 3 4 5 5]\n"
     ]
    }
   ],
   "source": [
    "from sklearn.preprocessing import LabelEncoder\n",
    "y = ['a', 'a', 'a', 'b', 'b', 'd', 'e', 'f', 'h', 'h']\n",
    "\n",
    "y_label = LabelEncoder().fit_transform(y)\n",
    "print(y)\n",
    "print(y_label)"
   ]
  },
  {
   "cell_type": "markdown",
   "metadata": {},
   "source": [
    "[OpenCV](https://opencv.org/) is a computer vision library, in this workshop we will use it to load images and make color space changes for example RGB to grayscale.\n"
   ]
  },
  {
   "cell_type": "code",
   "execution_count": 7,
   "metadata": {},
   "outputs": [
    {
     "name": "stdout",
     "output_type": "stream",
     "text": [
      "(28, 28, 3)\n"
     ]
    }
   ],
   "source": [
    "import cv2\n",
    "\n",
    "image = cv2.imread(\"./data/sign-language-mnist/R/5570.jpg\")\n",
    "print(image.shape)"
   ]
  },
  {
   "cell_type": "code",
   "execution_count": 8,
   "metadata": {},
   "outputs": [
    {
     "data": {
      "text/plain": [
       "array([[[149, 149, 149],\n",
       "        [152, 152, 152],\n",
       "        [157, 157, 157],\n",
       "        ...,\n",
       "        [154, 154, 154],\n",
       "        [152, 152, 152],\n",
       "        [151, 151, 151]],\n",
       "\n",
       "       [[151, 151, 151],\n",
       "        [155, 155, 155],\n",
       "        [160, 160, 160],\n",
       "        ...,\n",
       "        [157, 157, 157],\n",
       "        [155, 155, 155],\n",
       "        [154, 154, 154]],\n",
       "\n",
       "       [[154, 154, 154],\n",
       "        [158, 158, 158],\n",
       "        [163, 163, 163],\n",
       "        ...,\n",
       "        [160, 160, 160],\n",
       "        [159, 159, 159],\n",
       "        [158, 158, 158]],\n",
       "\n",
       "       ...,\n",
       "\n",
       "       [[188, 188, 188],\n",
       "        [181, 181, 181],\n",
       "        [205, 205, 205],\n",
       "        ...,\n",
       "        [210, 210, 210],\n",
       "        [208, 208, 208],\n",
       "        [206, 206, 206]],\n",
       "\n",
       "       [[197, 197, 197],\n",
       "        [191, 191, 191],\n",
       "        [214, 214, 214],\n",
       "        ...,\n",
       "        [210, 210, 210],\n",
       "        [208, 208, 208],\n",
       "        [206, 206, 206]],\n",
       "\n",
       "       [[192, 192, 192],\n",
       "        [200, 200, 200],\n",
       "        [207, 207, 207],\n",
       "        ...,\n",
       "        [210, 210, 210],\n",
       "        [208, 208, 208],\n",
       "        [206, 206, 206]]], dtype=uint8)"
      ]
     },
     "execution_count": 8,
     "metadata": {},
     "output_type": "execute_result"
    }
   ],
   "source": [
    "image"
   ]
  },
  {
   "cell_type": "code",
   "execution_count": 9,
   "metadata": {},
   "outputs": [],
   "source": [
    "import matplotlib.pyplot as plt\n",
    "%matplotlib inline"
   ]
  },
  {
   "cell_type": "code",
   "execution_count": 10,
   "metadata": {},
   "outputs": [
    {
     "data": {
      "text/plain": [
       "<matplotlib.image.AxesImage at 0x10dba1160>"
      ]
     },
     "execution_count": 10,
     "metadata": {},
     "output_type": "execute_result"
    },
    {
     "data": {
      "image/png": "[encoded data removed]",
      "text/plain": [
       "<matplotlib.figure.Figure at 0x105889080>"
      ]
     },
     "metadata": {},
     "output_type": "display_data"
    }
   ],
   "source": [
    "plt.imshow(image)"
   ]
  },
  {
   "cell_type": "code",
   "execution_count": 11,
   "metadata": {},
   "outputs": [
    {
     "data": {
      "text/plain": [
       "<matplotlib.image.AxesImage at 0x10dbb2400>"
      ]
     },
     "execution_count": 11,
     "metadata": {},
     "output_type": "execute_result"
    },
    {
     "data": {
      "image/png": "[encoded data removed]",
      "text/plain": [
       "<matplotlib.figure.Figure at 0x10db72ef0>"
      ]
     },
     "metadata": {},
     "output_type": "display_data"
    }
   ],
   "source": [
    "image_hsv = cv2.cvtColor(image, cv2.COLOR_BGR2HSV)\n",
    "plt.imshow(image_hsv)"
   ]
  },
  {
   "cell_type": "code",
   "execution_count": 12,
   "metadata": {},
   "outputs": [
    {
     "data": {
      "text/plain": [
       "array([[[  0,   0, 149],\n",
       "        [  0,   0, 152],\n",
       "        [  0,   0, 157],\n",
       "        ...,\n",
       "        [  0,   0, 154],\n",
       "        [  0,   0, 152],\n",
       "        [  0,   0, 151]],\n",
       "\n",
       "       [[  0,   0, 151],\n",
       "        [  0,   0, 155],\n",
       "        [  0,   0, 160],\n",
       "        ...,\n",
       "        [  0,   0, 157],\n",
       "        [  0,   0, 155],\n",
       "        [  0,   0, 154]],\n",
       "\n",
       "       [[  0,   0, 154],\n",
       "        [  0,   0, 158],\n",
       "        [  0,   0, 163],\n",
       "        ...,\n",
       "        [  0,   0, 160],\n",
       "        [  0,   0, 159],\n",
       "        [  0,   0, 158]],\n",
       "\n",
       "       ...,\n",
       "\n",
       "       [[  0,   0, 188],\n",
       "        [  0,   0, 181],\n",
       "        [  0,   0, 205],\n",
       "        ...,\n",
       "        [  0,   0, 210],\n",
       "        [  0,   0, 208],\n",
       "        [  0,   0, 206]],\n",
       "\n",
       "       [[  0,   0, 197],\n",
       "        [  0,   0, 191],\n",
       "        [  0,   0, 214],\n",
       "        ...,\n",
       "        [  0,   0, 210],\n",
       "        [  0,   0, 208],\n",
       "        [  0,   0, 206]],\n",
       "\n",
       "       [[  0,   0, 192],\n",
       "        [  0,   0, 200],\n",
       "        [  0,   0, 207],\n",
       "        ...,\n",
       "        [  0,   0, 210],\n",
       "        [  0,   0, 208],\n",
       "        [  0,   0, 206]]], dtype=uint8)"
      ]
     },
     "execution_count": 12,
     "metadata": {},
     "output_type": "execute_result"
    }
   ],
   "source": [
    "image_hsv"
   ]
  },
  {
   "cell_type": "markdown",
   "metadata": {},
   "source": [
    "## Tensorflow\n",
    "\n",
    "[Tensorflow](https://www.tensorflow.org/) is a machine learning library that makes use of graph structures to perform its calculations and compute the results of its operations. In the next cells of this notebook will be shown in a general way how operations are carried out with this learning library."
   ]
  },
  {
   "cell_type": "code",
   "execution_count": 13,
   "metadata": {},
   "outputs": [],
   "source": [
    "# Import NumPy y TensorFlow\n",
    "import numpy as np\n",
    "import tensorflow as tf"
   ]
  },
  {
   "cell_type": "markdown",
   "metadata": {},
   "source": [
    "<table>\n",
    "<tr>\n",
    "<td><p>\n",
    "The image below represents the nodes that tensorflow generates after declaring, initializing variables and activating the operations of the next cell.<p>\n",
    "<p> \\* In Tensorflow the variables, constants, operations, etc. are declared first, or a method that does this work is called and returns an operation or variable that contains the result.</p>\n",
    "<p> \\* After having the defined operations, a session is created, the variables are initialized and the calculation of the operations are performed with the `sess.run (op)` method of the session object.</p>\n",
    "</td>\n",
    "<td><img src=\"images/graph1.png\" height=\"420px\"></td>\n",
    "</tr>\n",
    "</table>\n",
    "<table>\n",
    "<tr>\n",
    "    <td>\n",
    "    <img src=\"images/graphnetwork.png\" width=\"620px\"></td>\n",
    "    <td>\n",
    "</tr>\n",
    "</table>"
   ]
  },
  {
   "cell_type": "code",
   "execution_count": null,
   "metadata": {},
   "outputs": [],
   "source": [
    "tf.reset_default_graph()\n",
    "\n",
    "a_1 = tf.Variable(np.array([1,2,3], dtype=np.float32), name=\"variable_a1\")\n",
    "a_2 = tf.get_variable(\"variable_a2\", initializer=3.32)\n",
    "\n",
    "b = tf.constant([[0,1], [2, 3]], name=\"Matrix_B\")\n",
    "c = tf.zeros([2, 3], tf.int32) * 1\n",
    "d = tf.ones_like(c)\n",
    "e = tf.lin_space(10.0, 13.0, 4, name=\"linea\")\n",
    "op = tf.add(b, 25)\n",
    "\n",
    "with tf.Session() as sess:\n",
    "    sess.run(tf.global_variables_initializer())\n",
    "    print(\"variable a1, arreglo numpy\\n\", sess.run(a_1))\n",
    "    print(\"variable a2, varible numérica\\n\", sess.run(a_2))\n",
    "    print(\"constante matrix numpy\\n\", sess.run(b))\n",
    "    print(\"genera matriz de ceros de dimensión 2x3\\n\", sess.run(c))\n",
    "    print(\"genera matriz de unos con la dimensión de c\\n\", sess.run(d))\n",
    "    print(\"genera secuencia de números\\n\", sess.run(e))\n",
    "    print(\"corre operación op = b + 25\\n\", sess.run(op))"
   ]
  },
  {
   "cell_type": "code",
   "execution_count": null,
   "metadata": {},
   "outputs": [],
   "source": [
    "# restart the graph\n",
    "None\n",
    "# create a variable result = 0\n",
    "result = 0\n",
    "# declare two constants of tensorflow with positive values\n",
    "# create a adition operation between the two constants\n",
    "None\n",
    "# in a tensorflow session execute the addition operation and\n",
    "# save the result in the result variable\n",
    "None\n",
    "# Print result\n",
    "\n",
    "assert (result > 0), \"The result must be greater than zero\""
   ]
  },
  {
   "cell_type": "markdown",
   "metadata": {},
   "source": [
    "#### Networks in TensorFlow\n",
    "\n",
    "In the next cells we will see how to implement the network shown in the following image using tensorflow.\n"
   ]
  },
  {
   "cell_type": "markdown",
   "metadata": {},
   "source": [
    "<img src=\"images/ANN-Diagram.png\" width=\"500px\">\n",
    "source: [viasat.com](https://techblog.viasat.com/using-artificial-neural-networks-to-analyze-trends-of-a-global-aircraft-fleet/)\n",
    "\n",
    "Layer 1\n",
    "$$ X(input) = \\begin{bmatrix}\n",
    "    . \\\\\n",
    "    . \\\\\n",
    "    . \\\\\n",
    "    . \n",
    "\\end{bmatrix}_{(4rows, 1columns)} \\;\\;\\; W1 = \\begin{bmatrix}\n",
    "    . . . . .\\\\\n",
    "    . . . . .\\\\\n",
    "    . . . . .\\\\\n",
    "    . . . . .\n",
    "\\end{bmatrix}_{(4rows, 5columns)}\\;\\;\\;  b1 =\\begin{bmatrix}\n",
    "    .  \\\\\n",
    "    .  \\\\\n",
    "    .  \\\\\n",
    "    .  \\\\\n",
    "    .\n",
    "\\end{bmatrix}\\;\\;\\;  Z1 =\\begin{bmatrix}\n",
    "    .  \\\\\n",
    "    .  \\\\\n",
    "    .  \\\\\n",
    "    .  \\\\\n",
    "    .\n",
    "\\end{bmatrix}\\;\\;\\;  A1 = ReLu(Z1) = \\begin{bmatrix}\n",
    "    .  \\\\\n",
    "    .  \\\\\n",
    "    .  \\\\\n",
    "    .  \\\\\n",
    "    .\n",
    "\\end{bmatrix}\\tag{layer 1}$$\n",
    "\n",
    "$$ Z1 = W1^T X + b1 \\; \\; \\; $$\n",
    "$$ A1 = ReLu(Z1) $$\n",
    "\n",
    "Layer 2\n",
    "$$ A1(input) = \\begin{bmatrix}\n",
    "    . \\\\\n",
    "    . \\\\\n",
    "    . \\\\\n",
    "    . \\\\\n",
    "    . \n",
    "\\end{bmatrix} \\;\\;\\; W2 = \\begin{bmatrix}\n",
    "    . . . . . . .\\\\\n",
    "    . . . . . . .\\\\\n",
    "    . . . . . . .\\\\\n",
    "    . . . . . . .\\\\\n",
    "    . . . . . . .\n",
    "\\end{bmatrix}_{(5rows, 7columns)}\\;\\;\\;  b2 =\\begin{bmatrix}\n",
    "    .  \\\\\n",
    "    .  \\\\\n",
    "    .  \\\\\n",
    "    .  \\\\\n",
    "    .  \\\\\n",
    "    .  \\\\\n",
    "    .\n",
    "\\end{bmatrix}\\;\\;\\;  Z2 =\\begin{bmatrix}\n",
    "    .  \\\\\n",
    "    .  \\\\\n",
    "    .  \\\\\n",
    "    .  \\\\\n",
    "    .  \\\\\n",
    "    .  \\\\\n",
    "    .\n",
    "\\end{bmatrix}\\;\\;\\;  A2 = ReLu(Z1) = \\begin{bmatrix}\n",
    "    .  \\\\\n",
    "    .  \\\\\n",
    "    .  \\\\\n",
    "    .  \\\\\n",
    "    .  \\\\\n",
    "    .  \\\\\n",
    "    .\n",
    "\\end{bmatrix}\\tag{layer 2}$$\n",
    "\n",
    "$$ Z2 = W2^T A1 + b2 \\; \\; \\; $$\n",
    "$$ A2 = ReLu(Z2) $$\n",
    "\n",
    "Layer Output\n",
    "$$ A2(input) = \\begin{bmatrix}\n",
    "    . \\\\\n",
    "    . \\\\\n",
    "    . \\\\\n",
    "    . \\\\\n",
    "    . \\\\\n",
    "    . \\\\\n",
    "    . \n",
    "\\end{bmatrix} \\;\\;\\; \\;\\;\\;\\;\\;\\;\\;W3 = \\begin{bmatrix}\n",
    "    . . .\\\\\n",
    "    . . .\\\\\n",
    "    . . .\\\\\n",
    "    . . .\\\\\n",
    "    . . .\\\\\n",
    "    . . .\\\\\n",
    "    . . .\n",
    "\\end{bmatrix}_{(7rows, 3columns)}\\;\\;\\;\\;\\;\\;\\;\\;  b3 =\\begin{bmatrix}\n",
    "    .  \\\\\n",
    "    .  \\\\\n",
    "    .\n",
    "\\end{bmatrix}\\;\\;\\;  Z3 =\\begin{bmatrix}\n",
    "    .  \\\\\n",
    "    .  \\\\\n",
    "    .\n",
    "\\end{bmatrix}\\;\\;\\;  Output = SoftMax(Z3) = \\begin{bmatrix}\n",
    "    .  \\\\\n",
    "    .  \\\\\n",
    "    .\n",
    "\\end{bmatrix}\\tag{layer Output}$$\n",
    "\n",
    "$$ Z3 = W3^T A2 + b3 \\; \\; \\; $$\n",
    "$$ \\hat{y} = Output = Softmax(Z3) $$\n",
    "\n",
    "Network in a single line\n",
    "$$\\hat{y} = softmax(\\;\\; w_3^T \\; ReLu(w_2^T \\; ReLu(w_1^T x\\;+\\;b1)\\;\\; +\\; b_2\\;\\;)\\; + \\;b_3\\;\\; )$$\n"
   ]
  },
  {
   "cell_type": "markdown",
   "metadata": {},
   "source": [
    "## *W* variable\n",
    "\n",
    "In neural networks the variable *W* is part of the main parameters the network it is also known as network weights. These parameters control which network connections are activated and deactivated by determining the output produced by the network.\n",
    "\n",
    "When the network is being trained, the values of these parameters change in every iteration so that the network adjusts and produces the desired results.\n",
    "\n",
    "In the following list it is show how a variable called W is initialized as a 5x7 matrix with random values"
   ]
  },
  {
   "cell_type": "code",
   "execution_count": null,
   "metadata": {},
   "outputs": [],
   "source": [
    "#  Initialize matrix W with random values from normal distribution\n",
    "tf.set_random_seed(100)\n",
    "tf.reset_default_graph()\n",
    "\n",
    "W = tf.get_variable(\"normal_dist_matrix\", shape=(5, 7), initializer = tf.random_normal_initializer() )\n",
    "_W = None\n",
    "with tf.Session() as sess:\n",
    "    sess.run(W.initializer)\n",
    "    _W = sess.run(W)\n",
    "\n",
    "print(_W)\n",
    "print(type(_W))"
   ]
  },
  {
   "cell_type": "markdown",
   "metadata": {},
   "source": [
    "## b variable\n",
    "\n",
    "This variable (b) together with the variable (W) are the parameters that a network learns in the training process. This parameter contains numbers or arrays of numbers that are to be added after performing an operation between the network input (x) and the parameter (W)"
   ]
  },
  {
   "cell_type": "code",
   "execution_count": null,
   "metadata": {},
   "outputs": [],
   "source": [
    "# using assignments with operation\n",
    "tf.reset_default_graph()\n",
    "b = tf.get_variable('b', initializer = tf.constant(10))\n",
    "\n",
    "with tf.Session() as sess:\n",
    "    sess.run(b.initializer)\n",
    "    sess.run(b.assign_add(30))\n",
    "    print(\"b = 10 + 30 = 40:\", b.eval())\n",
    "    sess.run(b.assign_add(30))\n",
    "    print(\"b = 70:\", b.eval())\n",
    "\n",
    "with tf.Session() as sess:\n",
    "    sess.run(b.initializer)\n",
    "    print(\"After recovery session by definition b = 10: \", b.eval())"
   ]
  },
  {
   "cell_type": "markdown",
   "metadata": {},
   "source": [
    "###### We will try to make a network in tensorflow that was shown in the previous image\n",
    "\n",
    "$$\\hat{y} = softmax(\\;\\; w_3^T \\; ReLu(w_2^T \\; ReLu(w_1^T x\\;+\\;b1)\\;\\; +\\; b_2\\;\\;)\\; + \\;b_3\\;\\; )$$\n",
    "\n",
    "<img src=\"images/ANN-Diagram.png\" width=\"300px\">"
   ]
  },
  {
   "cell_type": "code",
   "execution_count": null,
   "metadata": {},
   "outputs": [],
   "source": [
    "tf.reset_default_graph()\n",
    "tf.set_random_seed(100)\n",
    "\n",
    "#input layer\n",
    "X = tf.get_variable('X', shape=( 4), initializer =  tf.truncated_normal_initializer())\n",
    "\n",
    "# parameters layer 1\n",
    "W_1 = tf.get_variable('W_1', shape=(4, 5), initializer = tf.ones_initializer() )\n",
    "b_1 = tf.get_variable('B_1', initializer =  np.ones(5, dtype=np.float32)  )\n",
    "\n",
    "# hidden layer1 before activation\n",
    "Z_1 = tf.add(tf.tensordot(tf.transpose(W_1), X, 1), b_1)\n",
    "\n",
    "# parameters layer 2\n",
    "b_2 = tf.get_variable(\"B_2\", initializer = np.ones(7, dtype=np.float32))\n",
    "W_2 = tf.get_variable(\"W_2\", shape=(5,7), initializer = tf.truncated_normal_initializer())\n",
    "\n",
    "# parmeters ouput layer\n",
    "b_3 = tf.get_variable(\"B_3\", initializer = np.ones(3, dtype=np.float32))\n",
    "W_3 = tf.get_variable(\"W_3\", shape=(7,3), initializer = tf.truncated_normal_initializer())\n",
    "\n",
    "with tf.Session() as sess:\n",
    "    sess.run(tf.variables_initializer([b_1, W_1, X]))\n",
    "    _z1 = shape = sess.run(Z_1)\n",
    "    print(\"\\n\\nb1 array, shape:\", b_1.get_shape() , \"\\n\", b_1.eval())\n",
    "    print(\"\\n\\nW1 matrix, shape:\", W_1.get_shape(), \"\\n\", W_1.eval())\n",
    "    print(\"\\n\\nX matrix, shape:\", X.get_shape(), \"\\n\", X.eval())\n",
    "    print(\"\\n\\nZ1 = (W * X + b) matrix, shape:\", _z1.shape, \"\\n\", _z1)\n"
   ]
  },
  {
   "cell_type": "markdown",
   "metadata": {},
   "source": [
    "### ReLu = Max(0, x)\n",
    "\n",
    "<img src=\"images/activation.png\" width=\"150px\">"
   ]
  },
  {
   "cell_type": "code",
   "execution_count": null,
   "metadata": {},
   "outputs": [],
   "source": [
    "# tf.reset_default_graph()\n",
    "# We do not restart the graph to recover the previous computations\n",
    "# we use the ReLu function on Z_1\n",
    "\n",
    "A_1 = tf.nn.relu(Z_1)\n",
    "\n",
    "with tf.Session() as sess:\n",
    "    sess.run(tf.global_variables_initializer())\n",
    "    sess.run(A_1)\n",
    "    print(\"\\n\\nA_1 = apply relu(Z) matrix, shape:\", A_1.get_shape(), \"\\n\", A_1.eval())\n"
   ]
  },
  {
   "cell_type": "code",
   "execution_count": null,
   "metadata": {},
   "outputs": [],
   "source": [
    "Z_2 = tf.add(tf.tensordot(tf.transpose(W_2), A_1, 1), b_2)\n",
    "\n",
    "with tf.Session() as sess:\n",
    "    sess.run(tf.global_variables_initializer())\n",
    "    sess.run(Z_2)\n",
    "    print(\"Printing Z2:\", Z_2.eval())"
   ]
  },
  {
   "cell_type": "code",
   "execution_count": null,
   "metadata": {},
   "outputs": [],
   "source": [
    "A_2 = tf.nn.relu(Z_2)\n",
    "Z_3 = tf.add(tf.tensordot(tf.transpose(W_3), A_2,1), b_3)"
   ]
  },
  {
   "cell_type": "code",
   "execution_count": null,
   "metadata": {},
   "outputs": [],
   "source": [
    "Z_3_softmax = tf.nn.softmax(Z_3)\n",
    "\n",
    "with tf.Session() as sess:\n",
    "    sess.run(tf.global_variables_initializer())\n",
    "    print(\"Z3 values:\", Z_3.eval())\n",
    "    _z3_softmax= sess.run(Z_3_softmax)\n",
    "    print(\"Softmax(Z3):\", _z3_softmax)\n",
    "    print(\"dist:\", list(zip([round(x*100,3) for x in _z3_softmax], _z3_softmax)))\n",
    "    it_should_sum_one  = np.sum(_z3_softmax)\n",
    "    print(\"1 = \", it_should_sum_one)\n"
   ]
  },
  {
   "cell_type": "markdown",
   "metadata": {},
   "source": [
    "### Tic Tac Toe\n",
    "\n",
    "Now let's try to make a network that receives a Tic Tac Toe game as an input, and\n",
    "your output will be who is the winner of the triqui, which can be O, X or\n",
    "none. let's represent the output with a vector of three positions\n",
    "for example this output vector `[0.7, 0.2, 0.1]` indicates that the player won\n",
    "with the `O` because it has the highest probability in position 1. position 2\n",
    "It corresponds to the `X` and position 3 to none.\n",
    "\n",
    "\n",
    "##### Representing the input (input) and output (output) of the network\n",
    "The input (input) of the network is the Tic Tac Toe board, to represent it we will use a\n",
    "9 position vector as follows:\n",
    "\n",
    "<table>\n",
    "<tr>\n",
    "    <td width=\"60%\">This game where the player wins with the X will be represented as follows\n",
    "    <b>`[1, 1, 1,-1, 0, 0,-1, 0, 1]`</b> as you can see the `X` are the number 1, the O is the number\n",
    "    0 and the empty spaces(no played positions) are -1.\n",
    "    </td>\n",
    "    <td><img src=\"images/triqui1.png\" width=\"100px\"></td>\n",
    "</tr>\n",
    "<tr>\n",
    "    <td><p>This game does not win any player and is represented by the following vector</p>\n",
    "    <p><b>`[0, 1, 0, 0, 0, 1, 1, 0, 1]`</b></p></td>\n",
    "    <td><img src=\"images/triqui2.png\" width=\"100px\"></td>\n",
    "</tr>\n",
    "\n",
    "<tr>\n",
    "<td><p>This game player with O wins</p>\n",
    "    <p><b>`[0, 1, 1, 0, 0,-1, 0, 1, 1]`</b></p></td>\n",
    "<td><img src=\"images/triqui3.png\" width=\"100px\"></td>\n",
    "</tr>\n",
    "\n",
    "<tr>\n",
    "<td>\n",
    "<p>This game player with X wins</p>\n",
    "    <p><b>`[1, 0, 0, 0, 1,-1, 1,-1, 1]`</b></p>\n",
    "</td>\n",
    "<td><img src=\"images/triqui4.png\" width=\"100px\"></td>\n",
    "</tr>\n",
    "\n",
    "<tr>\n",
    "<td><p>This game player with O wins</p>\n",
    "    <p><b>`[0,-1,-1, 1, 0, 1,-1, 1, 0]`</b></p></td>\n",
    "<td><img src=\"images/triqui5.png\" width=\"100px\"></td>\n",
    "</tr>\n",
    "</table>\n",
    "\n",
    "##### What we want from the network\n",
    "\n",
    "For us it is easy to see who won a the game, but for a program it is not obvious,\n",
    "\n",
    "How to write a program that tells us who won the game board?\n",
    "\n",
    "Surely there is a very simple solution with conventional programming using `For` ` Loops` `if` etc,\n",
    "Maybe using networks is like killing an ant with a cannon (overkill), but it can be entertaining way to implement a network in tensorflow.\n"
   ]
  },
  {
   "cell_type": "code",
   "execution_count": null,
   "metadata": {},
   "outputs": [],
   "source": [
    "## https://playtictactoe.org/\n",
    "## training examples Tic Tac Toe(Triqui)\n",
    "x1 = np.array([1, 1, 0, 0, 1, 1, 1, 0, 0]) ; y1 = 2\n",
    "x2 = np.array([1, 0, 0,-1, 0, 1, 1, 0, 1]) ; y2 = 2\n",
    "x3 = np.array([1,-1, 0, 1, 0,-1, 1, 0, 1]) ; y3 = 1\n",
    "x4 = np.array([1,-1, 1, 0, 0, 0, 1,-1, 0]) ; y4 = 0\n",
    "x5 = np.array([1, 1, 1,-1, 0, 0,-1, 0, 1]) ; y5 = 1\n",
    "x6 = np.array([0,-1,-1, 1, 0, 1,-1, 1, 0]) ; y6 = 0\n",
    "## test examples Tic Tac Toe(Triqui)\n",
    "x7 = np.array([1, 0, 0, 0, 1,-1, 1,-1, 1]) ; y7 = 1\n",
    "x8 = np.array([0, 1, 0, 0, 0, 1, 1, 0, 1]) ; y8 = 2\n",
    "x9 = np.array([0, 1, 1, 0, 0,-1, 0, 1, 1]) ; y9 = 0\n",
    "\n",
    "X_train = [x1, x2, x3, x4, x5, x6, x7]\n",
    "y_train = [y1, y2, y3, y4, y5, y6, y7]\n",
    "\n",
    "X_test  = [x7, x8, x9]\n",
    "y_test  = [y7, y8, y9]"
   ]
  },
  {
   "cell_type": "markdown",
   "metadata": {},
   "source": [
    "<img src=\"images/ANN-Diagram.png\" width=\"300px\">"
   ]
  },
  {
   "cell_type": "code",
   "execution_count": null,
   "metadata": {},
   "outputs": [],
   "source": [
    "tf.reset_default_graph()\n",
    "tf.set_random_seed(1)\n",
    "\n",
    "x = tf.placeholder(tf.float32, (9), name=\"X\") \n",
    "y = tf.placeholder(tf.int32, (None), name=\"Y\")\n",
    "y_one_hot = tf.one_hot(y, 3)\n",
    "\n",
    "num_neurons_layer_1 = None\n",
    "num_neurons_layer_2 = None\n",
    "\n",
    "# parameters layer 1\n",
    "b1  = tf.get_variable(\"b1\", initializer = np.zeros(num_neurons_layer_1, dtype=np.float32))\n",
    "W1 = tf.get_variable(\"W1\", (num_neurons_layer_1, 9), initializer = tf.truncated_normal_initializer())\n",
    "Z1 = tf.add(tf.tensordot(W1, x, 1), b1)\n",
    "A1 = tf.nn.relu(Z1)\n",
    "\n",
    "# parameters layer 2\n",
    "b2  = tf.get_variable(\"b2\", initializer = np.zeros(num_neurons_layer_2, dtype=np.float32))\n",
    "W2 = tf.get_variable(\"W2\", (num_neurons_layer_2, num_neurons_layer_1), initializer = tf.truncated_normal_initializer())\n",
    "Z2 = tf.add(tf.tensordot(W2, A1, 1), b2)\n",
    "A2 = tf.nn.relu(Z2)\n",
    "\n",
    "# parmameters output layer\n",
    "W_l = tf.get_variable(\"W_l\", (3, num_neurons_layer_2), initializer=tf.truncated_normal_initializer())\n",
    "b_l = tf.get_variable(\"b_l\", initializer=np.zeros(3, dtype=np.float32))\n",
    "\n",
    "\n",
    "logits = tf.add(tf.tensordot(W_l, A2, 1), b_l)\n"
   ]
  },
  {
   "cell_type": "markdown",
   "metadata": {},
   "source": [
    "##### Learning the parameters W and b\n",
    "\n",
    "So far we have seen how the network is calculated forward, but we have not seen how the network receives feedback to know how to update the parameters W and b, so that the output of the network gives us the expected result. This is achieved through a process called backward propagation, and in that process the parameters W and b are updated.\n",
    "\n",
    "<img src=\"images/backpropagation-in-convolutional-neural-network-8-638.jpg\" width=\"600px\">\n",
    "\n",
    "fuente: https://www.slideshare.net/kuwajima/cnnbp"
   ]
  },
  {
   "cell_type": "code",
   "execution_count": null,
   "metadata": {},
   "outputs": [],
   "source": [
    "# Learning\n",
    "\n",
    "entropy = tf.nn.softmax_cross_entropy_with_logits(logits=logits, labels=y_one_hot)\n",
    "loss = tf.reduce_mean(entropy)\n",
    "optimizer = tf.train.AdamOptimizer(learning_rate=0.0001)\n",
    "train = optimizer.minimize(loss)\n"
   ]
  },
  {
   "cell_type": "code",
   "execution_count": null,
   "metadata": {},
   "outputs": [],
   "source": [
    "#trainning\n",
    "with tf.Session() as sess:\n",
    "    sess.run(tf.global_variables_initializer())\n",
    "\n",
    "    for epoch in range(200): #Epocas\n",
    "        train_predictions = []\n",
    "        for i in range(len(X_train)):\n",
    "            sess.run(train, feed_dict={x: X_train[i], y: y_train[i]})\n",
    "        # if the current epoch is multiplo of 20 example, 20, 40, 60 etc\n",
    "        # let's measure the precision on the training set\n",
    "        if (epoch % 20) == 0:\n",
    "            for j in range(len(X_train)):\n",
    "                result = sess.run(tf.nn.softmax(logits), feed_dict={ x: X_train[j], y: y_train[j] })\n",
    "                # verifica si la prediccion corresponde que el verdaro output del input\n",
    "                predict_correct = np.argmax(result) == y_train[j]\n",
    "                train_predictions.append(predict_correct)\n",
    "                accuracy = sum(train_predictions)/float(len(train_predictions))\n",
    "            print(\"Accuracy :\",   round(accuracy*100, 3) )\n",
    "            \n",
    "            \n",
    "print(\"\\n\")\n"
   ]
  },
  {
   "cell_type": "markdown",
   "metadata": {},
   "source": [
    "### Predictions\n",
    "\n",
    "In the next cells we will use the model that was trained to predict who won the Tic Tac Toe with 3 examples not seen by the network before."
   ]
  },
  {
   "cell_type": "markdown",
   "metadata": {},
   "source": [
    "<table>\n",
    "<tr>\n",
    "    <td width=\"60%\"><p>Player with X wins</p>\n",
    "    \n",
    "    <b>`[1, 0, 0, 0, 1,-1, 1,-1, 1]`</b>\n",
    "    </td>\n",
    "    <td><img src=\"images/triqui7.png\" width=\"100px\"></td>\n",
    "</tr>\n",
    "</table>\n"
   ]
  },
  {
   "cell_type": "code",
   "execution_count": null,
   "metadata": {},
   "outputs": [],
   "source": [
    "#prediction\n",
    "with tf.Session() as sess:\n",
    "    sess.run(tf.global_variables_initializer())\n",
    "    # x7 es el triqui donde gana X\n",
    "    # X es representado por el numero 1 o posicion 1 en un arreglo the 3 posiciones\n",
    "    result = sess.run(tf.nn.softmax(logits), feed_dict={ x: x7, y: y7})\n",
    "    print(\"This game wins X:\", result)\n",
    "    print(\"Do X win this game?\", np.argmax(result) == 1,)\n",
    "    print(\"\\n\")\n",
    "\n"
   ]
  },
  {
   "cell_type": "markdown",
   "metadata": {},
   "source": [
    "<table>\n",
    "<tr>\n",
    "    <td width=\"60%\"><p>This game no one wins</p>\n",
    "    <b>`[0, 1, 0, 0, 0, 1, 1, 0, 1]`</b>\n",
    "    </td>\n",
    "    <td><img src=\"images/triqui8.png\" width=\"100px\"></td>\n",
    "</tr>\n",
    "</table>"
   ]
  },
  {
   "cell_type": "code",
   "execution_count": null,
   "metadata": {},
   "outputs": [],
   "source": [
    "#prediction\n",
    "None\n"
   ]
  },
  {
   "cell_type": "markdown",
   "metadata": {},
   "source": [
    "<table>\n",
    "<tr>\n",
    "    <td width=\"60%\"><p>This game player with O wins</p>\n",
    "    <b>`[0, 1, 1, 0, 0,-1, 0, 1, 1]`</b>\n",
    "    </td>\n",
    "    <td><img src=\"images/triqui9.png\" width=\"100px\"></td>\n",
    "</tr>\n",
    "</table>"
   ]
  },
  {
   "cell_type": "code",
   "execution_count": null,
   "metadata": {},
   "outputs": [],
   "source": [
    "#prediction\n",
    "None"
   ]
  },
  {
   "cell_type": "code",
   "execution_count": null,
   "metadata": {},
   "outputs": [],
   "source": []
  }
 ],
 "metadata": {
  "kernelspec": {
   "display_name": "Python 3",
   "language": "python",
   "name": "python3"
  },
  "language_info": {
   "codemirror_mode": {
    "name": "ipython",
    "version": 3
   },
   "file_extension": ".py",
   "mimetype": "text/x-python",
   "name": "python",
   "nbconvert_exporter": "python",
   "pygments_lexer": "ipython3",
   "version": "3.6.4"
  }
 },
 "nbformat": 4,
 "nbformat_minor": 2
}
