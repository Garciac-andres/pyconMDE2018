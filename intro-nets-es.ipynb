{
 "cells": [
  {
   "cell_type": "markdown",
   "metadata": {
    "collapsed": true,
    "deletable": true,
    "editable": true
   },
   "source": [
    "## Herramientas\n",
    "\n",
    "En este taller usamos pandas, sklearn y OpenCV, las siguentes celdas muestran algunos metodos que usaremos"
   ]
  },
  {
   "cell_type": "markdown",
   "metadata": {
    "deletable": true,
    "editable": true
   },
   "source": [
    "[Pandas](https://pandas.pydata.org/)\n",
    "Es una librería muy útil para trabajar con datos tabulares.\n",
    "Es muy común encontrarla en el análisis de datos y en procesos de Machine Learning.\n",
    "En este taller la usaremos para cargar un archivo CSV y explorar los datos."
   ]
  },
  {
   "cell_type": "code",
   "execution_count": null,
   "metadata": {
    "collapsed": false,
    "deletable": true,
    "editable": true
   },
   "outputs": [],
   "source": [
    "# https://pandas.pydata.org/ \n",
    "import pandas as pd\n",
    "\n",
    "# cargar un archivo csv\n",
    "data_frame = pd.DataFrame.from_csv('./data/hands_signs.csv')"
   ]
  },
  {
   "cell_type": "code",
   "execution_count": null,
   "metadata": {
    "collapsed": false,
    "deletable": true,
    "editable": true
   },
   "outputs": [],
   "source": [
    "data_frame.describe()"
   ]
  },
  {
   "cell_type": "code",
   "execution_count": null,
   "metadata": {
    "collapsed": false,
    "deletable": true,
    "editable": true
   },
   "outputs": [],
   "source": [
    "data_frame.sample(frac=0.0002)"
   ]
  },
  {
   "cell_type": "markdown",
   "metadata": {
    "deletable": true,
    "editable": true
   },
   "source": [
    "[sklearn](http://scikit-learn.org/stable/) es una de las librerías de Machine Learning más usadas.\n",
    "En este notebook usaremos dos de sus funciones, `train_test_split` y `LabelEncoder` para procesar los\n",
    "datos antes de entrenar redes neuronales en tensorflow.\n"
   ]
  },
  {
   "cell_type": "code",
   "execution_count": null,
   "metadata": {
    "collapsed": false,
    "deletable": true,
    "editable": true
   },
   "outputs": [],
   "source": [
    "from sklearn.cross_validation import train_test_split\n",
    "\n",
    "x = ['a', 'b', 'c', 'd', 'e', 'f', 'g', 'h']\n",
    "y = [1  ,  2 ,  3 ,  3 ,  4 ,  5 ,  7 ,  8 ]\n",
    "\n",
    "x_train, x_test, y_train, y_test = train_test_split(x, y, test_size=0.5)"
   ]
  },
  {
   "cell_type": "code",
   "execution_count": null,
   "metadata": {
    "collapsed": false,
    "deletable": true,
    "editable": true
   },
   "outputs": [],
   "source": [
    "print(\"x_train:\", x_train)\n",
    "print(\"y_train:\", y_train)\n",
    "print(\"x_test:\", x_test)\n",
    "print(\"y_test:\", y_test)\n"
   ]
  },
  {
   "cell_type": "code",
   "execution_count": null,
   "metadata": {
    "collapsed": false,
    "deletable": true,
    "editable": true
   },
   "outputs": [],
   "source": [
    "from sklearn.preprocessing import LabelEncoder\n",
    "y = ['a', 'a', 'a', 'b', 'b', 'd', 'e', 'f', 'h', 'h']\n",
    "\n",
    "y_label = LabelEncoder().fit_transform(y)\n",
    "print(y)\n",
    "print(y_label)"
   ]
  },
  {
   "cell_type": "markdown",
   "metadata": {
    "deletable": true,
    "editable": true
   },
   "source": [
    "[OpenCV](https://opencv.org/) es una librería de visión computarizada, en este taller la usaremos para cargar imágenes y realizar cambios de formato de color por ejemplo de RGB a escala de grises.\n"
   ]
  },
  {
   "cell_type": "code",
   "execution_count": null,
   "metadata": {
    "collapsed": false,
    "deletable": true,
    "editable": true
   },
   "outputs": [],
   "source": [
    "import cv2\n",
    "\n",
    "image = cv2.imread(\"./data/sign-language-mnist/R/5570.jpg\")\n",
    "print(image.shape)"
   ]
  },
  {
   "cell_type": "code",
   "execution_count": null,
   "metadata": {
    "collapsed": false,
    "deletable": true,
    "editable": true
   },
   "outputs": [],
   "source": [
    "image"
   ]
  },
  {
   "cell_type": "code",
   "execution_count": null,
   "metadata": {
    "collapsed": true,
    "deletable": true,
    "editable": true
   },
   "outputs": [],
   "source": [
    "import matplotlib.pyplot as plt\n",
    "%matplotlib inline"
   ]
  },
  {
   "cell_type": "code",
   "execution_count": null,
   "metadata": {
    "collapsed": false,
    "deletable": true,
    "editable": true
   },
   "outputs": [],
   "source": [
    "plt.imshow(image)"
   ]
  },
  {
   "cell_type": "code",
   "execution_count": null,
   "metadata": {
    "collapsed": false,
    "deletable": true,
    "editable": true
   },
   "outputs": [],
   "source": [
    "image_hsv = cv2.cvtColor(image, cv2.COLOR_BGR2HSV)\n",
    "plt.imshow(image_hsv)"
   ]
  },
  {
   "cell_type": "code",
   "execution_count": null,
   "metadata": {
    "collapsed": false,
    "deletable": true,
    "editable": true
   },
   "outputs": [],
   "source": [
    "image_hsv"
   ]
  },
  {
   "cell_type": "markdown",
   "metadata": {
    "deletable": true,
    "editable": true
   },
   "source": [
    "## Tensorflow\n",
    "\n",
    "[Tensorflow](https://www.tensorflow.org/) es una librería de machine learning que hace uso de estructuras de grafos para realizar sus cálculos y computar los resultados de sus operaciones. En las próximas celdas de ese notebook se muestra de forma general como se realizan operaciones con esta librería de aprendizaje."
   ]
  },
  {
   "cell_type": "code",
   "execution_count": null,
   "metadata": {
    "collapsed": true,
    "deletable": true,
    "editable": true
   },
   "outputs": [],
   "source": [
    "# Importar NumPy y TensorFlow\n",
    "import numpy as np\n",
    "import tensorflow as tf"
   ]
  },
  {
   "cell_type": "markdown",
   "metadata": {
    "deletable": true,
    "editable": true
   },
   "source": [
    "<table>\n",
    "<row>\n",
    "<td><p>La imagen a continuación representan los nodos que genera tensorflow después de declarar, inicializar variables y accionar las operaciones de la siguiente celda.<p>\n",
    "<p> \\* En Tensorflow primero se declaran las variables, constantes, operaciones etc., o se llama un método que hace este trabajo y retorna una operación o variable que contiene el resultado.</p>\n",
    "<p> \\* Después de tener las operaciones definidas se crea una sesión, se inicializan las variables y se realiza el computo de las operaciones con el método `sess.run(op)` de la sesión.</p>\n",
    "</td>\n",
    "<td><img src=\"images/graph1.png\" height=\"420px\"></td>\n",
    "</row>\n",
    "</table>"
   ]
  },
  {
   "cell_type": "code",
   "execution_count": null,
   "metadata": {
    "collapsed": false,
    "deletable": true,
    "editable": true
   },
   "outputs": [],
   "source": [
    "tf.reset_default_graph()\n",
    "\n",
    "a_1 = tf.Variable(np.array([1,2,3], dtype=np.float32), name=\"variable_a1\")\n",
    "a_2 = tf.get_variable(\"variable_a2\", initializer=3.32)\n",
    "\n",
    "b = tf.constant([[0,1], [2, 3]], name=\"Matrix_B\")\n",
    "c = tf.zeros([2, 3], tf.int32) * 1\n",
    "d = tf.ones_like(c)\n",
    "e = tf.lin_space(10.0, 13.0, 4, name=\"linea\")\n",
    "op = tf.add(b, 25)\n",
    "\n",
    "with tf.Session() as sess:\n",
    "    sess.run(tf.global_variables_initializer())\n",
    "    print(\"variable a1, arreglo numpy\\n\", sess.run(a_1))\n",
    "    print(\"variable a2, varible numérica\\n\", sess.run(a_2))\n",
    "    print(\"constante matrix numpy\\n\", sess.run(b))\n",
    "    print(\"genera matriz de ceros de dimensión 2x3\\n\", sess.run(c))\n",
    "    print(\"genera matriz de unos con la dimensión de c\\n\", sess.run(d))\n",
    "    print(\"genera secuencia de números\\n\", sess.run(e))\n",
    "    print(\"corre operación op = b + 25\\n\", sess.run(op))"
   ]
  },
  {
   "cell_type": "code",
   "execution_count": null,
   "metadata": {
    "collapsed": false,
    "deletable": true,
    "editable": true
   },
   "outputs": [],
   "source": [
    "# reiniciar el grafo de computo\n",
    "None\n",
    "# crear una variable result = 0\n",
    "result = 0\n",
    "# declarar dos constantes de tensorflow con valores positivos\n",
    "# crear una operacion de suma entre las dos constantes\n",
    "None\n",
    "# en una session de tensor flow ejecutar la operacion de suma y \n",
    "# guardar el resultado en la variable result\n",
    "None\n",
    "# Imprimir la variable result\n",
    "\n",
    "assert (result > 0), \"El resultado debe ser mayor a cero\""
   ]
  },
  {
   "cell_type": "markdown",
   "metadata": {
    "deletable": true,
    "editable": true
   },
   "source": [
    "#### Redes en TensorFlow\n",
    "\n",
    "El las proximas celdas veremos como implementar la red que se muestra en la siguiente imagen usando tensorflow.\n"
   ]
  },
  {
   "cell_type": "markdown",
   "metadata": {
    "deletable": true,
    "editable": true
   },
   "source": [
    "<img src=\"images/ANN-Diagram.png\" width=\"500px\">\n",
    "fuente: [viasat.com](https://techblog.viasat.com/using-artificial-neural-networks-to-analyze-trends-of-a-global-aircraft-fleet/)\n",
    "\n",
    "Layer 1\n",
    "$$ X(input) = \\begin{bmatrix}\n",
    "    . \\\\\n",
    "    . \\\\\n",
    "    . \\\\\n",
    "    . \n",
    "\\end{bmatrix}_{(4rows, 1columns)} \\;\\;\\; W1 = \\begin{bmatrix}\n",
    "    . . . . .\\\\\n",
    "    . . . . .\\\\\n",
    "    . . . . .\\\\\n",
    "    . . . . .\n",
    "\\end{bmatrix}_{(4rows, 5columns)}\\;\\;\\;  b1 =\\begin{bmatrix}\n",
    "    .  \\\\\n",
    "    .  \\\\\n",
    "    .  \\\\\n",
    "    .  \\\\\n",
    "    .\n",
    "\\end{bmatrix}\\;\\;\\;  Z1 =\\begin{bmatrix}\n",
    "    .  \\\\\n",
    "    .  \\\\\n",
    "    .  \\\\\n",
    "    .  \\\\\n",
    "    .\n",
    "\\end{bmatrix}\\;\\;\\;  A1 = ReLu(Z1) = \\begin{bmatrix}\n",
    "    .  \\\\\n",
    "    .  \\\\\n",
    "    .  \\\\\n",
    "    .  \\\\\n",
    "    .\n",
    "\\end{bmatrix}\\tag{layer 1}$$\n",
    "\n",
    "$$ Z1 = W1^T X + b1 \\; \\; \\; $$\n",
    "$$ A1 = ReLu(Z1) $$\n",
    "\n",
    "Layer 2\n",
    "$$ A1(input) = \\begin{bmatrix}\n",
    "    . \\\\\n",
    "    . \\\\\n",
    "    . \\\\\n",
    "    . \\\\\n",
    "    . \n",
    "\\end{bmatrix} \\;\\;\\; W2 = \\begin{bmatrix}\n",
    "    . . . . . . .\\\\\n",
    "    . . . . . . .\\\\\n",
    "    . . . . . . .\\\\\n",
    "    . . . . . . .\\\\\n",
    "    . . . . . . .\n",
    "\\end{bmatrix}_{(5rows, 7columns)}\\;\\;\\;  b2 =\\begin{bmatrix}\n",
    "    .  \\\\\n",
    "    .  \\\\\n",
    "    .  \\\\\n",
    "    .  \\\\\n",
    "    .  \\\\\n",
    "    .  \\\\\n",
    "    .\n",
    "\\end{bmatrix}\\;\\;\\;  Z2 =\\begin{bmatrix}\n",
    "    .  \\\\\n",
    "    .  \\\\\n",
    "    .  \\\\\n",
    "    .  \\\\\n",
    "    .  \\\\\n",
    "    .  \\\\\n",
    "    .\n",
    "\\end{bmatrix}\\;\\;\\;  A2 = ReLu(Z1) = \\begin{bmatrix}\n",
    "    .  \\\\\n",
    "    .  \\\\\n",
    "    .  \\\\\n",
    "    .  \\\\\n",
    "    .  \\\\\n",
    "    .  \\\\\n",
    "    .\n",
    "\\end{bmatrix}\\tag{layer 2}$$\n",
    "\n",
    "$$ Z2 = W2^T A1 + b2 \\; \\; \\; $$\n",
    "$$ A2 = ReLu(Z2) $$\n",
    "\n",
    "Layer Output\n",
    "$$ A2(input) = \\begin{bmatrix}\n",
    "    . \\\\\n",
    "    . \\\\\n",
    "    . \\\\\n",
    "    . \\\\\n",
    "    . \\\\\n",
    "    . \\\\\n",
    "    . \n",
    "\\end{bmatrix} \\;\\;\\; \\;\\;\\;\\;\\;\\;\\;W3 = \\begin{bmatrix}\n",
    "    . . .\\\\\n",
    "    . . .\\\\\n",
    "    . . .\\\\\n",
    "    . . .\\\\\n",
    "    . . .\\\\\n",
    "    . . .\\\\\n",
    "    . . .\n",
    "\\end{bmatrix}_{(7rows, 3columns)}\\;\\;\\;\\;\\;\\;\\;\\;  b3 =\\begin{bmatrix}\n",
    "    .  \\\\\n",
    "    .  \\\\\n",
    "    .\n",
    "\\end{bmatrix}\\;\\;\\;  Z3 =\\begin{bmatrix}\n",
    "    .  \\\\\n",
    "    .  \\\\\n",
    "    .\n",
    "\\end{bmatrix}\\;\\;\\;  Output = SoftMax(Z3) = \\begin{bmatrix}\n",
    "    .  \\\\\n",
    "    .  \\\\\n",
    "    .\n",
    "\\end{bmatrix}\\tag{layer Output}$$\n",
    "\n",
    "$$ Z3 = W3^T A2 + b3 \\; \\; \\; $$\n",
    "$$ \\hat{y} = Output = Softmax(Z3) $$\n",
    "\n",
    "Red en una sola linea\n",
    "$$\\hat{y} = softmax(\\;\\; w_3^T \\; ReLu(w_2^T \\; ReLu(w_1^T x\\;+\\;b1)\\;\\; +\\; b_2\\;\\;)\\; + \\;b_3\\;\\; )$$\n"
   ]
  },
  {
   "cell_type": "markdown",
   "metadata": {
    "deletable": true,
    "editable": true
   },
   "source": [
    "## la variable *W*\n",
    "\n",
    "En redes neuronales normalmente se entiende que la variable *W* hace parte de los parámetros principales la red también se les conoce como pesos de la red. Estos parámetros controlan que conexiones de la red se activan y se desactivan determinando la salida que produce la red.\n",
    "\n",
    "Cuando la red esta siendo entrenada los valores de estos parámetros van cambiando para que la red se ajuste y produzca los resultados deseados.\n",
    "\n",
    "En la siguiente selda se muestra como se inicializa una variable llamada W y se le asigna una matriz 5x7 con valores aleatorios."
   ]
  },
  {
   "cell_type": "code",
   "execution_count": null,
   "metadata": {
    "collapsed": false,
    "deletable": true,
    "editable": true
   },
   "outputs": [],
   "source": [
    "# Inicializar matrix W con valores aleatoreos con distribucion normal\n",
    "tf.set_random_seed(100)\n",
    "tf.reset_default_graph()\n",
    "\n",
    "W = tf.get_variable(\"normal_dist_matrix\", shape=(5, 7), initializer = tf.random_normal_initializer() )\n",
    "_W = None\n",
    "with tf.Session() as sess:\n",
    "    sess.run(W.initializer)\n",
    "    _W = sess.run(W)\n",
    "\n",
    "print(_W)\n",
    "print(type(_W))"
   ]
  },
  {
   "cell_type": "markdown",
   "metadata": {
    "deletable": true,
    "editable": true
   },
   "source": [
    "## La variable b\n",
    "\n",
    "Esta variable (b) junto con la variable (W) son la parámetros que una red aprenden en el proceso de entrenamiento. Este parámetro contiene números o arreglo de números que van a sumarse después de realizar una operación entre la entrada de la red (x) y el parámetro (W)"
   ]
  },
  {
   "cell_type": "code",
   "execution_count": null,
   "metadata": {
    "collapsed": false,
    "deletable": true,
    "editable": true
   },
   "outputs": [],
   "source": [
    "# usando asignaciones con operacion\n",
    "tf.reset_default_graph()\n",
    "b = tf.get_variable('b', initializer = tf.constant(10))\n",
    "\n",
    "with tf.Session() as sess:\n",
    "    sess.run(b.initializer)\n",
    "    sess.run(b.assign_add(30))\n",
    "    print(\"b = 10 + 30 = 40:\", b.eval())\n",
    "    sess.run(b.assign_add(30))\n",
    "    print(\"b = 70:\", b.eval())\n",
    "\n",
    "with tf.Session() as sess:\n",
    "    sess.run(b.initializer)\n",
    "    print(\"After recovery session by definition b = 10: \", b.eval())"
   ]
  },
  {
   "cell_type": "markdown",
   "metadata": {
    "deletable": true,
    "editable": true
   },
   "source": [
    "###### Intentaremos hacer una red en tensorflow que se mostro en la imagen anterior:\n",
    "\n",
    "$$\\hat{y} = softmax(\\;\\; w_3^T \\; ReLu(w_2^T \\; ReLu(w_1^T x\\;+\\;b1)\\;\\; +\\; b_2\\;\\;)\\; + \\;b_3\\;\\; )$$\n",
    "\n",
    "<img src=\"images/ANN-Diagram.png\" width=\"300px\">"
   ]
  },
  {
   "cell_type": "code",
   "execution_count": null,
   "metadata": {
    "collapsed": false,
    "deletable": true,
    "editable": true
   },
   "outputs": [],
   "source": [
    "tf.reset_default_graph()\n",
    "tf.set_random_seed(100)\n",
    "\n",
    "#input layer\n",
    "X = tf.get_variable('X', shape=( 4), initializer =  tf.truncated_normal_initializer())\n",
    "\n",
    "# parameters layer 1\n",
    "W_1 = tf.get_variable('W_1', shape=(4, 5), initializer = tf.ones_initializer() )\n",
    "b_1 = tf.get_variable('B_1', initializer =  np.ones(5, dtype=np.float32)  )\n",
    "\n",
    "# hidden layer1 before activation\n",
    "Z_1 = tf.add(tf.tensordot(tf.transpose(W_1), X, 1), b_1)\n",
    "\n",
    "# parameters layer 2\n",
    "b_2 = tf.get_variable(\"B_2\", initializer = np.ones(7, dtype=np.float32))\n",
    "W_2 = tf.get_variable(\"W_2\", shape=(5,7), initializer = tf.truncated_normal_initializer())\n",
    "\n",
    "# parmeters ouput layer\n",
    "b_3 = tf.get_variable(\"B_3\", initializer = np.ones(3, dtype=np.float32))\n",
    "W_3 = tf.get_variable(\"W_3\", shape=(7,3), initializer = tf.truncated_normal_initializer())\n",
    "\n",
    "with tf.Session() as sess:\n",
    "    sess.run(tf.variables_initializer([b_1, W_1, X]))\n",
    "    _z1 = shape = sess.run(Z_1)\n",
    "    print(\"\\n\\nb1 array, shape:\", b_1.get_shape() , \"\\n\", b_1.eval())\n",
    "    print(\"\\n\\nW1 matrix, shape:\", W_1.get_shape(), \"\\n\", W_1.eval())\n",
    "    print(\"\\n\\nX matrix, shape:\", X.get_shape(), \"\\n\", X.eval())\n",
    "    print(\"\\n\\nZ1 = (W * X + b) matrix, shape:\", _z1.shape, \"\\n\", _z1)\n"
   ]
  },
  {
   "cell_type": "markdown",
   "metadata": {
    "deletable": true,
    "editable": true
   },
   "source": [
    "### ReLu = Max(0, x)\n",
    "\n",
    "<img src=\"images/activation.png\" width=\"150px\">"
   ]
  },
  {
   "cell_type": "code",
   "execution_count": null,
   "metadata": {
    "collapsed": false,
    "deletable": true,
    "editable": true
   },
   "outputs": [],
   "source": [
    "# tf.reset_default_graph()\n",
    "# No reiniciamos el grafo para recuperar las computacions anteriores\n",
    "# usamos la funcion ReLu sobre Z_1\n",
    "\n",
    "A_1 = tf.nn.relu(Z_1)\n",
    "\n",
    "with tf.Session() as sess:\n",
    "    sess.run(tf.global_variables_initializer())\n",
    "    sess.run(A_1)\n",
    "    print(\"\\n\\nA_1 = apply relu(Z) matrix, shape:\", A_1.get_shape(), \"\\n\", A_1.eval())\n"
   ]
  },
  {
   "cell_type": "code",
   "execution_count": null,
   "metadata": {
    "collapsed": false,
    "deletable": true,
    "editable": true
   },
   "outputs": [],
   "source": [
    "Z_2 = tf.add(tf.tensordot(tf.transpose(W_2), A_1, 1), b_2)\n",
    "\n",
    "with tf.Session() as sess:\n",
    "    sess.run(tf.global_variables_initializer())\n",
    "    sess.run(Z_2)\n",
    "    print(\"Printing Z2:\", Z_2.eval())"
   ]
  },
  {
   "cell_type": "code",
   "execution_count": null,
   "metadata": {
    "collapsed": false,
    "deletable": true,
    "editable": true
   },
   "outputs": [],
   "source": [
    "A_2 = tf.nn.relu(Z_2)\n",
    "Z_3 = tf.add(tf.tensordot(tf.transpose(W_3), A_2,1), b_3)"
   ]
  },
  {
   "cell_type": "code",
   "execution_count": null,
   "metadata": {
    "collapsed": false,
    "deletable": true,
    "editable": true
   },
   "outputs": [],
   "source": [
    "Z_3_softmax = tf.nn.softmax(Z_3)\n",
    "writer = tf.summary.FileWriter('./graph', tf.get_default_graph())\n",
    "with tf.Session() as sess:\n",
    "    sess.run(tf.global_variables_initializer())\n",
    "    print(\"Z3 values:\", Z_3.eval())\n",
    "    _z3_softmax= sess.run(Z_3_softmax)\n",
    "    print(\"Softmax(Z3):\", _z3_softmax)\n",
    "    print(\"dist:\", list(zip([round(x*100,3) for x in _z3_softmax], _z3_softmax)))\n",
    "    it_should_sum_one  = np.sum(_z3_softmax)\n",
    "    print(\"1 = \", it_should_sum_one)\n",
    "writer.close()"
   ]
  },
  {
   "cell_type": "markdown",
   "metadata": {
    "deletable": true,
    "editable": true
   },
   "source": [
    "### Tic Tac Toe\n",
    "\n",
    "Ahora tratemos de hacer un red que reciba un juego de Triqui como input, y \n",
    "su output va a ser quien es el ganador del triqui, que puede ser O, X o \n",
    "ninguno gana. vamos a representar la salida con un vector de tres posiciones\n",
    "por ejemplo este vector de salida `[0.7, 0.2, 0.1]` indica que gano el jugador\n",
    "con la `O` por que tiene la probabilidad mas alta en la posición 1. la posición 2\n",
    "le corresponde a la `X` y la posición 3 a ninguna opción.\n",
    "\n",
    "\n",
    "##### Representando la entrada (input) y la salida (output) de la red\n",
    "La entrada (input) de la red es el tablero de triqui, para representarlo usaremos un \n",
    "vector de 9 posiciones de la siguiente manera:\n",
    "\n",
    "<table>\n",
    "<tr>\n",
    "    <td width=\"60%\">Este juego de triqui donde gana el jugador con la X se representara de la siguiente manera\n",
    "    <b>`[1, 1, 1,-1, 0, 0,-1, 0, 1]`</b> como se puede ver la `X` son el numero 1, la O son el numero\n",
    "    0 y los espacios sin jugar  son -1.\n",
    "    </td>\n",
    "    <td><img src=\"images/triqui1.png\" width=\"100px\"></td>\n",
    "</tr>\n",
    "<tr>\n",
    "    <td><p>Este juego de triqui no gana ningún jugador y se representa con el siguiente vector</p>\n",
    "    <p><b>`[0, 1, 0, 0, 0, 1, 1, 0, 1]`</b></p></td>\n",
    "    <td><img src=\"images/triqui2.png\" width=\"100px\"></td>\n",
    "</tr>\n",
    "\n",
    "<tr>\n",
    "<td><p>Este juego de triqui gana el jugador con la letra O y se representa con el siguiente vector</p>\n",
    "    <p><b>`[0, 1, 1, 0, 0,-1, 0, 1, 1]`</b></p></td>\n",
    "<td><img src=\"images/triqui3.png\" width=\"100px\"></td>\n",
    "</tr>\n",
    "\n",
    "<tr>\n",
    "<td>\n",
    "<p>Este juego de triqui gana el jugador con la letra X y se representa con el siguiente vector</p>\n",
    "    <p><b>`[1, 0, 0, 0, 1,-1, 1,-1, 1]`</b></p>\n",
    "</td>\n",
    "<td><img src=\"images/triqui4.png\" width=\"100px\"></td>\n",
    "</tr>\n",
    "\n",
    "<tr>\n",
    "<td><p>Este juego de triqui gana el jugador con la letra O y se representa con el siguiente vector</p>\n",
    "    <p><b>`[0,-1,-1, 1, 0, 1,-1, 1, 0]`</b></p></td>\n",
    "<td><img src=\"images/triqui5.png\" width=\"100px\"></td>\n",
    "</tr>\n",
    "</table>\n",
    "\n",
    "##### Lo que queremos de la red\n",
    "\n",
    "Para nosotros es fácil ver quien gano un juego de triqui, pero para un programa no es evidente,\n",
    "\n",
    "Como escribir un programa que nos diga quien gano dado el tablero del juego ?\n",
    "\n",
    "Seguramente hay una solución muy sencilla con la programación convencional usando `For` `Loops` `if` etc,\n",
    "Talvez usar redes es como matar una hormiga con un cañón, pero puede ser entretenido para implementar una red en tensorflow\n",
    "\n",
    "\n",
    "\n",
    "\n",
    "\n",
    "\n",
    "\n",
    "\n",
    "\n",
    "\n",
    "\n"
   ]
  },
  {
   "cell_type": "code",
   "execution_count": null,
   "metadata": {
    "collapsed": true,
    "deletable": true,
    "editable": true
   },
   "outputs": [],
   "source": [
    "## https://playtictactoe.org/\n",
    "## ejemplos de entrenamiento Tic Tac Toe(Triqui)\n",
    "x1 = np.array([1, 1, 0, 0, 1, 1, 1, 0, 0]) ; y1 = 2\n",
    "x2 = np.array([1, 0, 0,-1, 0, 1, 1, 0, 1]) ; y2 = 2\n",
    "x3 = np.array([1,-1, 0, 1, 0,-1, 1, 0, 1]) ; y3 = 1\n",
    "x4 = np.array([1,-1, 1, 0, 0, 0, 1,-1, 0]) ; y4 = 0\n",
    "x5 = np.array([1, 1, 1,-1, 0, 0,-1, 0, 1]) ; y5 = 1\n",
    "x6 = np.array([0,-1,-1, 1, 0, 1,-1, 1, 0]) ; y6 = 0\n",
    "## ejemplos de prueba Tic Tac Toe(Triqui)\n",
    "x7 = np.array([1, 0, 0, 0, 1,-1, 1,-1, 1]) ; y7 = 1\n",
    "x8 = np.array([0, 1, 0, 0, 0, 1, 1, 0, 1]) ; y8 = 2\n",
    "x9 = np.array([0, 1, 1, 0, 0,-1, 0, 1, 1]) ; y9 = 0\n",
    "\n",
    "X_train = [x1, x2, x3, x4, x5, x6, x7]\n",
    "y_train = [y1, y2, y3, y4, y5, y6, y7]\n",
    "\n",
    "X_test  = [x7, x8, x9]\n",
    "y_test  = [y7, y8, y9]"
   ]
  },
  {
   "cell_type": "markdown",
   "metadata": {
    "deletable": true,
    "editable": true
   },
   "source": [
    "<img src=\"images/ANN-Diagram.png\" width=\"300px\">"
   ]
  },
  {
   "cell_type": "code",
   "execution_count": null,
   "metadata": {
    "collapsed": false,
    "deletable": true,
    "editable": true
   },
   "outputs": [],
   "source": [
    "tf.reset_default_graph()\n",
    "tf.set_random_seed(1)\n",
    "\n",
    "x = tf.placeholder(tf.float32, (9), name=\"X\") \n",
    "y = tf.placeholder(tf.int32, (None), name=\"Y\")\n",
    "y_one_hot = tf.one_hot(y, 3)\n",
    "\n",
    "num_neurons_layer_1 = None\n",
    "num_neurons_layer_2 = None\n",
    "\n",
    "# parameters layer 1\n",
    "b1  = tf.get_variable(\"b1\", initializer = np.zeros(num_neurons_layer_1, dtype=np.float32))\n",
    "W1 = tf.get_variable(\"W1\", (num_neurons_layer_1, 9), initializer = tf.truncated_normal_initializer())\n",
    "Z1 = tf.add(tf.tensordot(W1, x, 1), b1)\n",
    "A1 = tf.nn.relu(Z1)\n",
    "\n",
    "# parameters layer 2\n",
    "b2  = tf.get_variable(\"b2\", initializer = np.zeros(num_neurons_layer_2, dtype=np.float32))\n",
    "W2 = tf.get_variable(\"W2\", (num_neurons_layer_2, num_neurons_layer_1), initializer = tf.truncated_normal_initializer())\n",
    "Z2 = tf.add(tf.tensordot(W2, A1, 1), b2)\n",
    "A2 = tf.nn.relu(Z2)\n",
    "\n",
    "# parmameters output layer\n",
    "W_l = tf.get_variable(\"W_l\", (3, num_neurons_layer_2), initializer=tf.truncated_normal_initializer())\n",
    "b_l = tf.get_variable(\"b_l\", initializer=np.zeros(3, dtype=np.float32))\n",
    "\n",
    "\n",
    "logits = tf.add(tf.tensordot(W_l, A2, 1), b_l)\n"
   ]
  },
  {
   "cell_type": "markdown",
   "metadata": {
    "deletable": true,
    "editable": true
   },
   "source": [
    "##### Aprendiendo los parametros W y b\n",
    "\n",
    "Hasta el momento hemos visto como se calcula la red hacia adelante, pero no hemos visto como la red recibe retroalimentación para saber como actualiza los parámetros W y b, de forma que la salida de la red nos de el resultado esperado. Esto se logra con un proceso llamado propagación hacia atrás, y en ese proceso los parámetros W y b se actualizan.\n",
    "\n",
    "<img src=\"images/backpropagation-in-convolutional-neural-network-8-638.jpg\" width=\"600px\">\n",
    "\n",
    "fuente: https://www.slideshare.net/kuwajima/cnnbp"
   ]
  },
  {
   "cell_type": "code",
   "execution_count": null,
   "metadata": {
    "collapsed": true,
    "deletable": true,
    "editable": true
   },
   "outputs": [],
   "source": [
    "# Learning\n",
    "\n",
    "entropy = tf.nn.softmax_cross_entropy_with_logits(logits=logits, labels=y_one_hot)\n",
    "loss = tf.reduce_mean(entropy)\n",
    "optimizer = tf.train.AdamOptimizer(learning_rate=0.0001)\n",
    "train = optimizer.minimize(loss)\n"
   ]
  },
  {
   "cell_type": "code",
   "execution_count": null,
   "metadata": {
    "collapsed": false,
    "deletable": true,
    "editable": true
   },
   "outputs": [],
   "source": [
    "#trainning\n",
    "with tf.Session() as sess:\n",
    "    sess.run(tf.global_variables_initializer())\n",
    "\n",
    "    for epoch in range(200): #Epocas\n",
    "        train_predictions = []\n",
    "        for i in range(len(X_train)):\n",
    "            sess.run(train, feed_dict={x: X_train[i], y: y_train[i]})\n",
    "        # si el actual epoch es multiplo de 20 ejemplo, 20, 40, 60 etc\n",
    "        # vamos a medir la precision sobre el conjunto de entrenamiento\n",
    "        if (epoch % 20) == 0:\n",
    "            for j in range(len(X_train)):\n",
    "                result = sess.run(tf.nn.softmax(logits), feed_dict={ x: X_train[j], y: y_train[j] })\n",
    "                # verifica si la prediccion corresponde que el verdaro output del input\n",
    "                predict_correct = np.argmax(result) == y_train[j]\n",
    "                train_predictions.append(predict_correct)\n",
    "                accuracy = sum(train_predictions)/float(len(train_predictions))\n",
    "            print(\"Porcentaje de precisión:\",   round(accuracy*100, 3) )\n",
    "            \n",
    "            \n",
    "print(\"\\n\")\n"
   ]
  },
  {
   "cell_type": "markdown",
   "metadata": {
    "deletable": true,
    "editable": true
   },
   "source": [
    "### Predictions\n",
    "\n",
    "En las próximas celdas vamos a usar el modelo que fue entrenado para predecir quien gano el triqui con 3 ejemplos no vistos por la red."
   ]
  },
  {
   "cell_type": "markdown",
   "metadata": {
    "deletable": true,
    "editable": true
   },
   "source": [
    "<table>\n",
    "<tr>\n",
    "    <td width=\"60%\"><p>Este juego de triqui donde gana el jugador con la X</p>\n",
    "    \n",
    "    <b>`[1, 0, 0, 0, 1,-1, 1,-1, 1]`</b>\n",
    "    </td>\n",
    "    <td><img src=\"images/triqui7.png\" width=\"100px\"></td>\n",
    "</tr>\n",
    "</table>\n"
   ]
  },
  {
   "cell_type": "code",
   "execution_count": null,
   "metadata": {
    "collapsed": false,
    "deletable": true,
    "editable": true
   },
   "outputs": [],
   "source": [
    "#prediction\n",
    "with tf.Session() as sess:\n",
    "    sess.run(tf.global_variables_initializer())\n",
    "    # x7 es el triqui donde gana X\n",
    "    # X es representado por el numero 1 o posicion 1 en un arreglo the 3 posiciones\n",
    "    result = sess.run(tf.nn.softmax(logits), feed_dict={ x: x7, y: y7})\n",
    "    print(\"En este juego gana X:\", result)\n",
    "    print(\"Este resultado gana X ?\", np.argmax(result) == 1,)\n",
    "    print(\"\\n\")\n",
    "\n"
   ]
  },
  {
   "cell_type": "markdown",
   "metadata": {
    "deletable": true,
    "editable": true
   },
   "source": [
    "<table>\n",
    "<tr>\n",
    "    <td width=\"60%\"><p>Este juego de triqui no gana ningun jugador</p>\n",
    "    <b>`[0, 1, 0, 0, 0, 1, 1, 0, 1]`</b>\n",
    "    </td>\n",
    "    <td><img src=\"images/triqui8.png\" width=\"100px\"></td>\n",
    "</tr>\n",
    "</table>"
   ]
  },
  {
   "cell_type": "code",
   "execution_count": null,
   "metadata": {
    "collapsed": false,
    "deletable": true,
    "editable": true
   },
   "outputs": [],
   "source": [
    "#prediction\n",
    "None\n"
   ]
  },
  {
   "cell_type": "markdown",
   "metadata": {
    "deletable": true,
    "editable": true
   },
   "source": [
    "<table>\n",
    "<tr>\n",
    "    <td width=\"60%\"><p>Este juego de triqui gana el jugador con la O</p>\n",
    "    <b>`[0, 1, 1, 0, 0,-1, 0, 1, 1]`</b>\n",
    "    </td>\n",
    "    <td><img src=\"images/triqui9.png\" width=\"100px\"></td>\n",
    "</tr>\n",
    "</table>"
   ]
  },
  {
   "cell_type": "code",
   "execution_count": null,
   "metadata": {
    "collapsed": false,
    "deletable": true,
    "editable": true
   },
   "outputs": [],
   "source": [
    "#prediction\n",
    "None"
   ]
  },
  {
   "cell_type": "code",
   "execution_count": null,
   "metadata": {
    "collapsed": true,
    "deletable": true,
    "editable": true
   },
   "outputs": [],
   "source": []
  }
 ],
 "metadata": {
  "kernelspec": {
   "display_name": "Python 3",
   "language": "python",
   "name": "python3"
  },
  "language_info": {
   "codemirror_mode": {
    "name": "ipython",
    "version": 3
   },
   "file_extension": ".py",
   "mimetype": "text/x-python",
   "name": "python",
   "nbconvert_exporter": "python",
   "pygments_lexer": "ipython3",
   "version": "3.5.2"
  }
 },
 "nbformat": 4,
 "nbformat_minor": 2
}
